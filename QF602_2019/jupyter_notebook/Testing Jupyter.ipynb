{
 "cells": [
  {
   "cell_type": "markdown",
   "metadata": {},
   "source": [
    "# Sample Headline\n",
    "\n",
    "## Another headline\n",
    "\n",
    "### What this notebook shows\n",
    "\n",
    "1. derivatives\n",
    "2. Greeks"
   ]
  },
  {
   "cell_type": "code",
   "execution_count": 10,
   "metadata": {},
   "outputs": [],
   "source": [
    "name = \"John\""
   ]
  },
  {
   "cell_type": "code",
   "execution_count": 11,
   "metadata": {},
   "outputs": [],
   "source": [
    "name = \"corny\""
   ]
  },
  {
   "cell_type": "code",
   "execution_count": 12,
   "metadata": {},
   "outputs": [
    {
     "data": {
      "text/plain": [
       "'corny'"
      ]
     },
     "execution_count": 12,
     "metadata": {},
     "output_type": "execute_result"
    }
   ],
   "source": [
    "name"
   ]
  },
  {
   "cell_type": "code",
   "execution_count": 13,
   "metadata": {
    "collapsed": true
   },
   "outputs": [
    {
     "name": "stdout",
     "output_type": "stream",
     "text": [
      "Package                            Version  \n",
      "---------------------------------- ---------\n",
      "alabaster                          0.7.10   \n",
      "anaconda-client                    1.6.14   \n",
      "anaconda-navigator                 1.8.7    \n",
      "anaconda-project                   0.8.2    \n",
      "asn1crypto                         0.24.0   \n",
      "astroid                            1.6.3    \n",
      "astropy                            3.0.2    \n",
      "attrs                              18.1.0   \n",
      "Babel                              2.5.3    \n",
      "backcall                           0.1.0    \n",
      "backports.shutil-get-terminal-size 1.0.0    \n",
      "beautifulsoup4                     4.6.0    \n",
      "bitarray                           0.8.1    \n",
      "bkcharts                           0.2      \n",
      "blaze                              0.11.3   \n",
      "bleach                             2.1.3    \n",
      "bokeh                              0.12.16  \n",
      "boto                               2.48.0   \n",
      "Bottleneck                         1.2.1    \n",
      "certifi                            2018.4.16\n",
      "cffi                               1.11.5   \n",
      "chardet                            3.0.4    \n",
      "click                              6.7      \n",
      "cloudpickle                        0.5.3    \n",
      "clyent                             1.2.2    \n",
      "colorama                           0.3.9    \n",
      "comtypes                           1.1.4    \n",
      "conda                              4.5.4    \n",
      "conda-build                        3.10.5   \n",
      "conda-verify                       2.0.0    \n",
      "contextlib2                        0.5.5    \n",
      "cryptography                       2.2.2    \n",
      "cycler                             0.10.0   \n",
      "Cython                             0.28.2   \n",
      "cytoolz                            0.9.0.1  \n",
      "dask                               0.17.5   \n",
      "datashape                          0.5.4    \n",
      "decorator                          4.3.0    \n",
      "distributed                        1.21.8   \n",
      "docutils                           0.14     \n",
      "entrypoints                        0.2.3    \n",
      "et-xmlfile                         1.0.1    \n",
      "fastcache                          1.0.2    \n",
      "filelock                           3.0.4    \n",
      "Flask                              1.0.2    \n",
      "Flask-Cors                         3.0.4    \n",
      "gevent                             1.3.0    \n",
      "glob2                              0.6      \n",
      "greenlet                           0.4.13   \n",
      "h5py                               2.7.1    \n",
      "heapdict                           1.0.0    \n",
      "html5lib                           1.0.1    \n",
      "idna                               2.6      \n",
      "imageio                            2.3.0    \n",
      "imagesize                          1.0.0    \n",
      "ipykernel                          4.8.2    \n",
      "ipython                            6.4.0    \n",
      "ipython-genutils                   0.2.0    \n",
      "ipywidgets                         7.2.1    \n",
      "isort                              4.3.4    \n",
      "itsdangerous                       0.24     \n",
      "jdcal                              1.4      \n",
      "jedi                               0.12.0   \n",
      "Jinja2                             2.10     \n",
      "jsonschema                         2.6.0    \n",
      "jupyter                            1.0.0    \n",
      "jupyter-client                     5.2.3    \n",
      "jupyter-console                    5.2.0    \n",
      "jupyter-core                       4.4.0    \n",
      "jupyterlab                         0.32.1   \n",
      "jupyterlab-launcher                0.10.5   \n",
      "kiwisolver                         1.0.1    \n",
      "lazy-object-proxy                  1.3.1    \n",
      "llvmlite                           0.23.1   \n",
      "locket                             0.2.0    \n",
      "lxml                               4.2.1    \n",
      "MarkupSafe                         1.0      \n",
      "matplotlib                         2.2.2    \n",
      "mccabe                             0.6.1    \n",
      "menuinst                           1.4.14   \n",
      "mistune                            0.8.3    \n",
      "mkl-fft                            1.0.0    \n",
      "mkl-random                         1.0.1    \n",
      "more-itertools                     4.1.0    \n",
      "mpmath                             1.0.0    \n",
      "msgpack-python                     0.5.6    \n",
      "multipledispatch                   0.5.0    \n",
      "navigator-updater                  0.2.1    \n",
      "nbconvert                          5.3.1    \n",
      "nbformat                           4.4.0    \n",
      "networkx                           2.1      \n",
      "nltk                               3.3      \n",
      "nose                               1.3.7    \n",
      "notebook                           5.5.0    \n",
      "numba                              0.38.0   \n",
      "numexpr                            2.6.5    \n",
      "numpy                              1.14.3   \n",
      "numpydoc                           0.8.0    \n",
      "odo                                0.5.1    \n",
      "olefile                            0.45.1   \n",
      "openpyxl                           2.5.3    \n",
      "packaging                          17.1     \n",
      "pandas                             0.23.0   \n",
      "pandocfilters                      1.4.2    \n",
      "parso                              0.2.0    \n",
      "partd                              0.3.8    \n",
      "path.py                            11.0.1   \n",
      "pathlib2                           2.3.2    \n",
      "patsy                              0.5.0    \n",
      "pep8                               1.7.1    \n",
      "pickleshare                        0.7.4    \n",
      "Pillow                             5.1.0    \n",
      "pip                                10.0.1   \n",
      "pkginfo                            1.4.2    \n",
      "pluggy                             0.6.0    \n",
      "ply                                3.11     \n",
      "prompt-toolkit                     1.0.15   \n",
      "psutil                             5.4.5    \n",
      "py                                 1.5.3    \n",
      "pycodestyle                        2.4.0    \n",
      "pycosat                            0.6.3    \n",
      "pycparser                          2.18     \n",
      "pycrypto                           2.6.1    \n",
      "pycurl                             7.43.0.1 \n",
      "pyflakes                           1.6.0    \n",
      "Pygments                           2.2.0    \n",
      "pylint                             1.8.4    \n",
      "pyodbc                             4.0.23   \n",
      "pyOpenSSL                          18.0.0   \n",
      "pyparsing                          2.2.0    \n",
      "PySocks                            1.6.8    \n",
      "pytest                             3.5.1    \n",
      "pytest-arraydiff                   0.2      \n",
      "pytest-astropy                     0.3.0    \n",
      "pytest-doctestplus                 0.1.3    \n",
      "pytest-openfiles                   0.3.0    \n",
      "pytest-remotedata                  0.2.1    \n",
      "python-dateutil                    2.7.3    \n",
      "pytz                               2018.4   \n",
      "PyWavelets                         0.5.2    \n",
      "pywin32                            223      \n",
      "pywinpty                           0.5.1    \n",
      "PyYAML                             3.12     \n",
      "pyzmq                              17.0.0   \n",
      "QtAwesome                          0.4.4    \n",
      "qtconsole                          4.3.1    \n",
      "QtPy                               1.4.1    \n",
      "requests                           2.18.4   \n",
      "rope                               0.10.7   \n",
      "ruamel-yaml                        0.15.35  \n",
      "scikit-image                       0.13.1   \n",
      "scikit-learn                       0.19.1   \n",
      "scipy                              1.1.0    \n",
      "seaborn                            0.8.1    \n",
      "Send2Trash                         1.5.0    \n",
      "setuptools                         39.1.0   \n",
      "simplegeneric                      0.8.1    \n",
      "singledispatch                     3.4.0.3  \n",
      "six                                1.11.0   \n",
      "snowballstemmer                    1.2.1    \n",
      "sortedcollections                  0.6.1    \n",
      "sortedcontainers                   1.5.10   \n",
      "Sphinx                             1.7.4    \n",
      "sphinxcontrib-websupport           1.0.1    \n",
      "spyder                             3.2.8    \n",
      "SQLAlchemy                         1.2.7    \n",
      "statsmodels                        0.9.0    \n",
      "sympy                              1.1.1    \n",
      "tables                             3.4.3    \n",
      "tblib                              1.3.2    \n",
      "terminado                          0.8.1    \n",
      "testpath                           0.3.1    \n",
      "toolz                              0.9.0    \n",
      "tornado                            5.0.2    \n",
      "traitlets                          4.3.2    \n",
      "typing                             3.6.4    \n",
      "unicodecsv                         0.14.1   \n",
      "urllib3                            1.22     \n",
      "wcwidth                            0.1.7    \n",
      "webencodings                       0.5.1    \n",
      "Werkzeug                           0.14.1   \n",
      "wheel                              0.31.1   \n",
      "widgetsnbextension                 3.2.1    \n",
      "win-inet-pton                      1.0.1    \n",
      "win-unicode-console                0.5      \n",
      "wincertstore                       0.2      \n",
      "wrapt                              1.10.11  \n",
      "xlrd                               1.1.0    \n",
      "XlsxWriter                         1.0.4    \n",
      "xlwings                            0.11.8   \n",
      "xlwt                               1.3.0    \n",
      "zict                               0.1.3    \n"
     ]
    },
    {
     "name": "stderr",
     "output_type": "stream",
     "text": [
      "You are using pip version 10.0.1, however version 18.1 is available.\n",
      "You should consider upgrading via the 'python -m pip install --upgrade pip' command.\n"
     ]
    }
   ],
   "source": [
    "!pip list"
   ]
  },
  {
   "cell_type": "code",
   "execution_count": 14,
   "metadata": {},
   "outputs": [
    {
     "data": {
      "application/json": {
       "cell": {
        "!": "OSMagics",
        "HTML": "Other",
        "SVG": "Other",
        "bash": "Other",
        "capture": "ExecutionMagics",
        "cmd": "Other",
        "debug": "ExecutionMagics",
        "file": "Other",
        "html": "DisplayMagics",
        "javascript": "DisplayMagics",
        "js": "DisplayMagics",
        "latex": "DisplayMagics",
        "markdown": "DisplayMagics",
        "perl": "Other",
        "prun": "ExecutionMagics",
        "pypy": "Other",
        "python": "Other",
        "python2": "Other",
        "python3": "Other",
        "ruby": "Other",
        "script": "ScriptMagics",
        "sh": "Other",
        "svg": "DisplayMagics",
        "sx": "OSMagics",
        "system": "OSMagics",
        "time": "ExecutionMagics",
        "timeit": "ExecutionMagics",
        "writefile": "OSMagics"
       },
       "line": {
        "alias": "OSMagics",
        "alias_magic": "BasicMagics",
        "autocall": "AutoMagics",
        "automagic": "AutoMagics",
        "autosave": "KernelMagics",
        "bookmark": "OSMagics",
        "cd": "OSMagics",
        "clear": "KernelMagics",
        "cls": "KernelMagics",
        "colors": "BasicMagics",
        "config": "ConfigMagics",
        "connect_info": "KernelMagics",
        "copy": "Other",
        "ddir": "Other",
        "debug": "ExecutionMagics",
        "dhist": "OSMagics",
        "dirs": "OSMagics",
        "doctest_mode": "BasicMagics",
        "echo": "Other",
        "ed": "Other",
        "edit": "KernelMagics",
        "env": "OSMagics",
        "gui": "BasicMagics",
        "hist": "Other",
        "history": "HistoryMagics",
        "killbgscripts": "ScriptMagics",
        "ldir": "Other",
        "less": "KernelMagics",
        "load": "CodeMagics",
        "load_ext": "ExtensionMagics",
        "loadpy": "CodeMagics",
        "logoff": "LoggingMagics",
        "logon": "LoggingMagics",
        "logstart": "LoggingMagics",
        "logstate": "LoggingMagics",
        "logstop": "LoggingMagics",
        "ls": "Other",
        "lsmagic": "BasicMagics",
        "macro": "ExecutionMagics",
        "magic": "BasicMagics",
        "matplotlib": "PylabMagics",
        "mkdir": "Other",
        "more": "KernelMagics",
        "notebook": "BasicMagics",
        "page": "BasicMagics",
        "pastebin": "CodeMagics",
        "pdb": "ExecutionMagics",
        "pdef": "NamespaceMagics",
        "pdoc": "NamespaceMagics",
        "pfile": "NamespaceMagics",
        "pinfo": "NamespaceMagics",
        "pinfo2": "NamespaceMagics",
        "pip": "BasicMagics",
        "popd": "OSMagics",
        "pprint": "BasicMagics",
        "precision": "BasicMagics",
        "profile": "BasicMagics",
        "prun": "ExecutionMagics",
        "psearch": "NamespaceMagics",
        "psource": "NamespaceMagics",
        "pushd": "OSMagics",
        "pwd": "OSMagics",
        "pycat": "OSMagics",
        "pylab": "PylabMagics",
        "qtconsole": "KernelMagics",
        "quickref": "BasicMagics",
        "recall": "HistoryMagics",
        "rehashx": "OSMagics",
        "reload_ext": "ExtensionMagics",
        "ren": "Other",
        "rep": "Other",
        "rerun": "HistoryMagics",
        "reset": "NamespaceMagics",
        "reset_selective": "NamespaceMagics",
        "rmdir": "Other",
        "run": "ExecutionMagics",
        "save": "CodeMagics",
        "sc": "OSMagics",
        "set_env": "OSMagics",
        "store": "StoreMagics",
        "sx": "OSMagics",
        "system": "OSMagics",
        "tb": "ExecutionMagics",
        "time": "ExecutionMagics",
        "timeit": "ExecutionMagics",
        "unalias": "OSMagics",
        "unload_ext": "ExtensionMagics",
        "who": "NamespaceMagics",
        "who_ls": "NamespaceMagics",
        "whos": "NamespaceMagics",
        "xdel": "NamespaceMagics",
        "xmode": "BasicMagics"
       }
      },
      "text/plain": [
       "Available line magics:\n",
       "%alias  %alias_magic  %autocall  %automagic  %autosave  %bookmark  %cd  %clear  %cls  %colors  %config  %connect_info  %copy  %ddir  %debug  %dhist  %dirs  %doctest_mode  %echo  %ed  %edit  %env  %gui  %hist  %history  %killbgscripts  %ldir  %less  %load  %load_ext  %loadpy  %logoff  %logon  %logstart  %logstate  %logstop  %ls  %lsmagic  %macro  %magic  %matplotlib  %mkdir  %more  %notebook  %page  %pastebin  %pdb  %pdef  %pdoc  %pfile  %pinfo  %pinfo2  %popd  %pprint  %precision  %profile  %prun  %psearch  %psource  %pushd  %pwd  %pycat  %pylab  %qtconsole  %quickref  %recall  %rehashx  %reload_ext  %ren  %rep  %rerun  %reset  %reset_selective  %rmdir  %run  %save  %sc  %set_env  %store  %sx  %system  %tb  %time  %timeit  %unalias  %unload_ext  %who  %who_ls  %whos  %xdel  %xmode\n",
       "\n",
       "Available cell magics:\n",
       "%%!  %%HTML  %%SVG  %%bash  %%capture  %%cmd  %%debug  %%file  %%html  %%javascript  %%js  %%latex  %%markdown  %%perl  %%prun  %%pypy  %%python  %%python2  %%python3  %%ruby  %%script  %%sh  %%svg  %%sx  %%system  %%time  %%timeit  %%writefile\n",
       "\n",
       "Automagic is ON, % prefix IS NOT needed for line magics."
      ]
     },
     "execution_count": 14,
     "metadata": {},
     "output_type": "execute_result"
    }
   ],
   "source": [
    "%lsmagic"
   ]
  },
  {
   "cell_type": "code",
   "execution_count": 15,
   "metadata": {},
   "outputs": [
    {
     "data": {
      "text/plain": [
       "'C:\\\\Users\\\\Harry'"
      ]
     },
     "execution_count": 15,
     "metadata": {},
     "output_type": "execute_result"
    }
   ],
   "source": [
    "%pwd"
   ]
  },
  {
   "cell_type": "code",
   "execution_count": 19,
   "metadata": {
    "collapsed": true
   },
   "outputs": [
    {
     "name": "stdout",
     "output_type": "stream",
     "text": [
      " Volume in drive C is Windows\n",
      " Volume Serial Number is 68E0-0006\n",
      "\n",
      " Directory of C:\\Users\\Harry\n",
      "\n",
      "25/11/2018  12:40 AM    <DIR>          .\n",
      "25/11/2018  12:40 AM    <DIR>          ..\n",
      "01/08/2018  10:41 PM    <DIR>          .anaconda\n",
      "28/07/2018  11:10 PM    <DIR>          .astropy\n",
      "09/08/2018  10:34 PM    <DIR>          .conda\n",
      "09/08/2018  10:34 PM                43 .condarc\n",
      "28/07/2018  03:39 PM               177 .gitconfig\n",
      "25/11/2018  12:27 AM    <DIR>          .ipynb_checkpoints\n",
      "09/08/2018  10:36 PM    <DIR>          .ipython\n",
      "25/11/2018  12:25 AM    <DIR>          .jupyter\n",
      "04/08/2018  07:35 PM    <DIR>          .matplotlib\n",
      "28/07/2018  11:05 PM    <DIR>          .PyCharmCE2018.2\n",
      "23/08/2018  10:26 PM       305,563,548 1.3_MTG_GRN_Boros_Vignette_TEXTLESS_15s_16x9_EN.mov\n",
      "23/08/2018  10:22 PM       284,358,780 1.4_MTG_GRN_Boros_Vignette_TEXTLESS_15s_1x1_EN.mov\n",
      "23/08/2018  10:49 PM       296,666,484 2.3_MTG_GRN_Dimir_Vignette_TEXTLESS_15s_16x9_EN.mov\n",
      "23/08/2018  10:50 PM       266,014,052 2.4_MTG_GRN_Dimir_Vignette_TEXTLESS_15s_1x1_EN.mov\n",
      "21/04/2018  10:13 PM         3,878,888 20180216_001922.jpg\n",
      "21/06/2018  09:33 PM         2,517,400 20180621_202705.jpg\n",
      "23/08/2018  11:16 PM       309,760,868 3.3_MTG_GRN_Golgari_Vignette_TEXTLESS_15s_16x9_EN.mov\n",
      "23/08/2018  11:14 PM       287,114,116 3.4_MTG_GRN_Golgari_Vignette_TEXTLESS_15s_1x1_EN.mov\n",
      "14/11/2018  10:02 PM    <DIR>          3D Objects\n",
      "23/08/2018  11:37 PM       276,572,068 4.3_MTG_GRN_Izzet_Vignette_TEXTLESS_15s_16x9_EN.mov\n",
      "23/08/2018  11:46 PM       336,588,308 5.3_MTG_GRN_Selesnya_Vignette_TEXTLESS_15s_16x9_EN.mov\n",
      "24/08/2018  12:14 AM       416,106,469 6.3_MTG_GRN_5-Guild_Full_Length_TEXTLESS_57s_16x9_EN.mov\n",
      "24/08/2018  12:14 AM       355,021,734 7.3_MTG_GRN_5-Guild_Cut_Down_TEXTLESS_30s_16x9_EN.mov\n",
      "24/08/2018  09:27 AM       118,994,718 7.4_MTG_GRN_5-Guild_Cut_Down_TEXTLESS_30s_1x1_EN.mov\n",
      "28/07/2018  11:00 PM    <DIR>          Anaconda3\n",
      "14/11/2018  10:02 PM    <DIR>          Contacts\n",
      "20/11/2018  08:39 PM    <DIR>          Desktop\n",
      "14/11/2018  10:02 PM    <DIR>          Documents\n",
      "23/11/2018  05:49 PM    <DIR>          Downloads\n",
      "14/11/2018  10:02 PM    <DIR>          Favorites\n",
      "29/03/2018  10:26 PM           634,081 IMG_20170806_193914.jpg\n",
      "14/11/2018  10:02 PM    <DIR>          Links\n",
      "14/11/2018  10:02 PM    <DIR>          Music\n",
      "24/11/2018  11:55 PM    <DIR>          OneDrive\n",
      "14/11/2018  10:02 PM    <DIR>          Pictures\n",
      "14/11/2018  10:02 PM    <DIR>          Saved Games\n",
      "14/11/2018  10:02 PM    <DIR>          Searches\n",
      "25/11/2018  12:40 AM            18,903 Testing Jupyter.ipynb\n",
      "14/11/2018  10:02 PM    <DIR>          Videos\n",
      "              17 File(s)  3,259,810,637 bytes\n",
      "              24 Dir(s)  176,413,790,208 bytes free\n"
     ]
    }
   ],
   "source": [
    "%ls "
   ]
  },
  {
   "cell_type": "code",
   "execution_count": 21,
   "metadata": {},
   "outputs": [],
   "source": [
    "%matplotlib inline"
   ]
  },
  {
   "cell_type": "code",
   "execution_count": 23,
   "metadata": {
    "scrolled": true
   },
   "outputs": [
    {
     "data": {
      "image/png": "[encoded data removed]",
      "text/plain": [
       "<Figure size 432x288 with 1 Axes>"
      ]
     },
     "metadata": {},
     "output_type": "display_data"
    }
   ],
   "source": [
    "import numpy as np\n",
    "import matplotlib.pyplot as plt\n",
    "\n",
    "N = 50\n",
    "x = np.random.rand(N)\n",
    "y = np.random.rand(N)\n",
    "colors = np.random.rand(N)\n",
    "area = np.pi * (15.0 * np.random.rand(N))**2 \n",
    "plt.scatter(x, y, s=area, c=colors, alpha=0.5)\n",
    "plt.show()"
   ]
  },
  {
   "cell_type": "code",
   "execution_count": 29,
   "metadata": {},
   "outputs": [
    {
     "data": {
      "text/latex": [
       "$$\\sum_{i=0}^N a_i + b_i^2$$"
      ],
      "text/plain": [
       "<IPython.core.display.Latex object>"
      ]
     },
     "metadata": {},
     "output_type": "display_data"
    }
   ],
   "source": [
    "%%latex\n",
    "$$\\sum_{i=0}^N a_i + b_i^2$$"
   ]
  },
  {
   "cell_type": "code",
   "execution_count": 31,
   "metadata": {},
   "outputs": [
    {
     "data": {
      "text/html": [
       "<div>\n",
       "<style scoped>\n",
       "    .dataframe tbody tr th:only-of-type {\n",
       "        vertical-align: middle;\n",
       "    }\n",
       "\n",
       "    .dataframe tbody tr th {\n",
       "        vertical-align: top;\n",
       "    }\n",
       "\n",
       "    .dataframe thead th {\n",
       "        text-align: right;\n",
       "    }\n",
       "</style>\n",
       "<table border=\"1\" class=\"dataframe\">\n",
       "  <thead>\n",
       "    <tr style=\"text-align: right;\">\n",
       "      <th></th>\n",
       "      <th>0</th>\n",
       "      <th>1</th>\n",
       "      <th>2</th>\n",
       "      <th>3</th>\n",
       "      <th>4</th>\n",
       "    </tr>\n",
       "  </thead>\n",
       "  <tbody>\n",
       "    <tr>\n",
       "      <th>0</th>\n",
       "      <td>0.167687</td>\n",
       "      <td>0.068615</td>\n",
       "      <td>-1.057580</td>\n",
       "      <td>0.078237</td>\n",
       "      <td>-1.081074</td>\n",
       "    </tr>\n",
       "    <tr>\n",
       "      <th>1</th>\n",
       "      <td>-0.478048</td>\n",
       "      <td>0.663654</td>\n",
       "      <td>-1.386979</td>\n",
       "      <td>1.059149</td>\n",
       "      <td>1.279721</td>\n",
       "    </tr>\n",
       "    <tr>\n",
       "      <th>2</th>\n",
       "      <td>0.459762</td>\n",
       "      <td>-0.015261</td>\n",
       "      <td>0.307987</td>\n",
       "      <td>-0.013995</td>\n",
       "      <td>0.473841</td>\n",
       "    </tr>\n",
       "    <tr>\n",
       "      <th>3</th>\n",
       "      <td>-0.120287</td>\n",
       "      <td>-1.402474</td>\n",
       "      <td>0.631748</td>\n",
       "      <td>1.404588</td>\n",
       "      <td>-0.816627</td>\n",
       "    </tr>\n",
       "    <tr>\n",
       "      <th>4</th>\n",
       "      <td>1.432973</td>\n",
       "      <td>-2.154574</td>\n",
       "      <td>-0.643493</td>\n",
       "      <td>1.389907</td>\n",
       "      <td>0.762432</td>\n",
       "    </tr>\n",
       "  </tbody>\n",
       "</table>\n",
       "</div>"
      ],
      "text/plain": [
       "          0         1         2         3         4\n",
       "0  0.167687  0.068615 -1.057580  0.078237 -1.081074\n",
       "1 -0.478048  0.663654 -1.386979  1.059149  1.279721\n",
       "2  0.459762 -0.015261  0.307987 -0.013995  0.473841\n",
       "3 -0.120287 -1.402474  0.631748  1.404588 -0.816627\n",
       "4  1.432973 -2.154574 -0.643493  1.389907  0.762432"
      ]
     },
     "execution_count": 31,
     "metadata": {},
     "output_type": "execute_result"
    }
   ],
   "source": [
    "import pandas as pd\n",
    "import numpy as np\n",
    "df = pd.DataFrame(np.random.randn(10,5))\n",
    "df.head()"
   ]
  },
  {
   "cell_type": "code",
   "execution_count": null,
   "metadata": {},
   "outputs": [],
   "source": []
  }
 ],
 "metadata": {
  "kernelspec": {
   "display_name": "Python 3",
   "language": "python",
   "name": "python3"
  },
  "language_info": {
   "codemirror_mode": {
    "name": "ipython",
    "version": 3
   },
   "file_extension": ".py",
   "mimetype": "text/x-python",
   "name": "python",
   "nbconvert_exporter": "python",
   "pygments_lexer": "ipython3",
   "version": "3.6.5"
  }
 },
 "nbformat": 4,
 "nbformat_minor": 2
}
